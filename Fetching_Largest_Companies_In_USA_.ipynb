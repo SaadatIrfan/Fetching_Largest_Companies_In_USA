{
  "nbformat": 4,
  "nbformat_minor": 0,
  "metadata": {
    "colab": {
      "provenance": [],
      "authorship_tag": "ABX9TyOzE08uGZyLmxiVRMmfPpU8"
    },
    "kernelspec": {
      "name": "python3",
      "display_name": "Python 3"
    },
    "language_info": {
      "name": "python"
    }
  },
  "cells": [
    {
      "cell_type": "code",
      "source": [
        "from bs4 import BeautifulSoup\n",
        "import requests\n",
        "url = 'https://en.wikipedia.org/wiki/List_of_largest_companies_in_the_United_States_by_revenue'\n",
        "\n",
        "page = requests.get(url)\n",
        "\n",
        "soup = BeautifulSoup(page.text, 'html')\n",
        "soup.find('table')\n",
        "soup.find_all('table')[1]\n",
        "soup.find('table', class_ = 'wikitable sortable')\n",
        "table = soup.find_all('table')[1]\n",
        "world_titles = table.find_all('th')\n",
        "world_table_titles = [title.text.strip() for title in world_titles]\n",
        "\n",
        "print(world_table_titles)\n",
        "import pandas as pd\n",
        "df = pd.DataFrame(columns = world_table_titles)\n",
        "column_data = table.find_all('tr')\n",
        "for row in column_data[1:]:\n",
        "    row_data = row.find_all('td')\n",
        "    individual_row_data = [data.text.strip() for data in row_data]\n",
        "\n",
        "    length = len(df)\n",
        "    df.loc[length] = individual_row_data\n",
        "\n",
        "file_path = '/content/Largest_companies_in_the_United_States_by_revenue_in_2023.csv'\n",
        "\n",
        "df.to_csv(file_path, index=False)\n",
        "print(f\"CSV file has been saved to: {file_path}\")\n",
        "\n",
        "from google.colab import files\n",
        "files.download(file_path)"
      ],
      "metadata": {
        "colab": {
          "base_uri": "https://localhost:8080/",
          "height": 52
        },
        "id": "Zbpf9_88z1Si",
        "outputId": "f03dd715-dcaf-4cf9-da3d-aa9114e27c5a"
      },
      "execution_count": 1,
      "outputs": [
        {
          "output_type": "stream",
          "name": "stdout",
          "text": [
            "['Rank', 'Name', 'Industry', 'Revenue (USD millions)', 'Revenue growth', 'Employees', 'Headquarters']\n",
            "CSV file has been saved to: /content/Largest_companies_in_the_United_States_by_revenue_in_2023.csv\n"
          ]
        },
        {
          "output_type": "display_data",
          "data": {
            "text/plain": [
              "<IPython.core.display.Javascript object>"
            ],
            "application/javascript": [
              "\n",
              "    async function download(id, filename, size) {\n",
              "      if (!google.colab.kernel.accessAllowed) {\n",
              "        return;\n",
              "      }\n",
              "      const div = document.createElement('div');\n",
              "      const label = document.createElement('label');\n",
              "      label.textContent = `Downloading \"${filename}\": `;\n",
              "      div.appendChild(label);\n",
              "      const progress = document.createElement('progress');\n",
              "      progress.max = size;\n",
              "      div.appendChild(progress);\n",
              "      document.body.appendChild(div);\n",
              "\n",
              "      const buffers = [];\n",
              "      let downloaded = 0;\n",
              "\n",
              "      const channel = await google.colab.kernel.comms.open(id);\n",
              "      // Send a message to notify the kernel that we're ready.\n",
              "      channel.send({})\n",
              "\n",
              "      for await (const message of channel.messages) {\n",
              "        // Send a message to notify the kernel that we're ready.\n",
              "        channel.send({})\n",
              "        if (message.buffers) {\n",
              "          for (const buffer of message.buffers) {\n",
              "            buffers.push(buffer);\n",
              "            downloaded += buffer.byteLength;\n",
              "            progress.value = downloaded;\n",
              "          }\n",
              "        }\n",
              "      }\n",
              "      const blob = new Blob(buffers, {type: 'application/binary'});\n",
              "      const a = document.createElement('a');\n",
              "      a.href = window.URL.createObjectURL(blob);\n",
              "      a.download = filename;\n",
              "      div.appendChild(a);\n",
              "      a.click();\n",
              "      div.remove();\n",
              "    }\n",
              "  "
            ]
          },
          "metadata": {}
        },
        {
          "output_type": "display_data",
          "data": {
            "text/plain": [
              "<IPython.core.display.Javascript object>"
            ],
            "application/javascript": [
              "download(\"download_1bd08d26-46b8-43f8-a44d-f23890803bca\", \"Largest_companies_in_the_United_States_by_revenue_in_2023.csv\", 8024)"
            ]
          },
          "metadata": {}
        }
      ]
    }
  ]
}